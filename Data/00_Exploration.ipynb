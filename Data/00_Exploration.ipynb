{
 "cells": [
  {
   "cell_type": "code",
   "execution_count": 1,
   "metadata": {
    "collapsed": true
   },
   "outputs": [],
   "source": [
    "%matplotlib inline\n",
    "\n",
    "import numpy as np\n",
    "import pandas as pd\n",
    "import matplotlib.pyplot as plt\n",
    "import pickle\n"
   ]
  },
  {
   "cell_type": "markdown",
   "metadata": {},
   "source": [
    "Load mapping dictionaries to take states to their 2 char codes and vice versa."
   ]
  },
  {
   "cell_type": "code",
   "execution_count": 2,
   "metadata": {
    "collapsed": true
   },
   "outputs": [],
   "source": [
    "with open('state_2_code.p', 'rb') as fp:\n",
    "    state_2_code = pickle.load(fp)"
   ]
  },
  {
   "cell_type": "code",
   "execution_count": 3,
   "metadata": {
    "collapsed": true
   },
   "outputs": [],
   "source": [
    "with open('code_2_state.p', 'rb') as fp:\n",
    "    code_2_state = pickle.load(fp)"
   ]
  },
  {
   "cell_type": "markdown",
   "metadata": {},
   "source": [
    "Load each year's data and set the appropriate year in the year column"
   ]
  },
  {
   "cell_type": "code",
   "execution_count": 4,
   "metadata": {},
   "outputs": [],
   "source": [
    "df_2005 = pd.read_csv('vet_2005.csv')\n",
    "df_2005['year'] = pd.Series(2005, index=df_2005.index)\n",
    "\n",
    "df_2006 = pd.read_csv('vet_2006.csv')\n",
    "df_2006['year'] = pd.Series(2006, index=df_2006.index)\n",
    "\n",
    "df_2007 = pd.read_csv('vet_2007.csv')\n",
    "df_2007['year'] = pd.Series(2007, index=df_2007.index)\n",
    "\n",
    "df_2008 = pd.read_csv('vet_2008.csv')\n",
    "df_2008['year'] = pd.Series(2008, index=df_2008.index)\n",
    "\n",
    "df_2009 = pd.read_csv('vet_2009.csv')\n",
    "df_2009['year'] = pd.Series(2009, index=df_2009.index)\n",
    "\n",
    "df_2010 = pd.read_csv('vet_2010.csv')\n",
    "df_2010['year'] = pd.Series(2010, index=df_2010.index)\n",
    "\n",
    "df_2011 = pd.read_csv('vet_2011.csv')\n",
    "df_2011['year'] = pd.Series(2011, index=df_2011.index)"
   ]
  },
  {
   "cell_type": "code",
   "execution_count": 5,
   "metadata": {
    "collapsed": true
   },
   "outputs": [],
   "source": [
    "#Combine into one dataframe\n",
    "\n",
    "frames = [df_2005, df_2006, df_2007, df_2008, df_2009, df_2010, df_2011]\n",
    "df_vets = pd.concat(frames)\n",
    "df_vets = df_vets.drop(df_vets.columns[0], axis=1)"
   ]
  },
  {
   "cell_type": "code",
   "execution_count": 6,
   "metadata": {},
   "outputs": [
    {
     "name": "stdout",
     "output_type": "stream",
     "text": [
      "350\n"
     ]
    }
   ],
   "source": [
    "print(len(df_vets))"
   ]
  },
  {
   "cell_type": "code",
   "execution_count": 7,
   "metadata": {},
   "outputs": [
    {
     "data": {
      "text/html": [
       "<div>\n",
       "<style>\n",
       "    .dataframe thead tr:only-child th {\n",
       "        text-align: right;\n",
       "    }\n",
       "\n",
       "    .dataframe thead th {\n",
       "        text-align: left;\n",
       "    }\n",
       "\n",
       "    .dataframe tbody tr th {\n",
       "        vertical-align: top;\n",
       "    }\n",
       "</style>\n",
       "<table border=\"1\" class=\"dataframe\">\n",
       "  <thead>\n",
       "    <tr style=\"text-align: right;\">\n",
       "      <th></th>\n",
       "      <th>state</th>\n",
       "      <th>vet_pop</th>\n",
       "      <th>overall_pop_18</th>\n",
       "      <th>vet_pop_p</th>\n",
       "      <th>vet_suicides</th>\n",
       "      <th>all_suicides</th>\n",
       "      <th>vet_suicides_p</th>\n",
       "      <th>vet_males</th>\n",
       "      <th>vet_males_p</th>\n",
       "      <th>vet_females</th>\n",
       "      <th>...</th>\n",
       "      <th>vet_35-54</th>\n",
       "      <th>vet_45_54</th>\n",
       "      <th>vet_50_59</th>\n",
       "      <th>vet_45_64</th>\n",
       "      <th>vet_55_64</th>\n",
       "      <th>vet_60</th>\n",
       "      <th>vet_65</th>\n",
       "      <th>vet_rate</th>\n",
       "      <th>civ_rate</th>\n",
       "      <th>year</th>\n",
       "    </tr>\n",
       "  </thead>\n",
       "  <tbody>\n",
       "    <tr>\n",
       "      <th>0</th>\n",
       "      <td>Alabama</td>\n",
       "      <td>403950</td>\n",
       "      <td>3344721</td>\n",
       "      <td>0.120772</td>\n",
       "      <td>135</td>\n",
       "      <td>535</td>\n",
       "      <td>0.252336</td>\n",
       "      <td>NaN</td>\n",
       "      <td>0.000000</td>\n",
       "      <td>NaN</td>\n",
       "      <td>...</td>\n",
       "      <td>NaN</td>\n",
       "      <td>NaN</td>\n",
       "      <td>NaN</td>\n",
       "      <td>NaN</td>\n",
       "      <td>NaN</td>\n",
       "      <td>NaN</td>\n",
       "      <td>NaN</td>\n",
       "      <td>33.419978</td>\n",
       "      <td>13.601875</td>\n",
       "      <td>2005</td>\n",
       "    </tr>\n",
       "    <tr>\n",
       "      <th>1</th>\n",
       "      <td>Alaska</td>\n",
       "      <td>74482</td>\n",
       "      <td>446969</td>\n",
       "      <td>0.166638</td>\n",
       "      <td>24</td>\n",
       "      <td>131</td>\n",
       "      <td>0.183206</td>\n",
       "      <td>22.0</td>\n",
       "      <td>0.916667</td>\n",
       "      <td>2.0</td>\n",
       "      <td>...</td>\n",
       "      <td>NaN</td>\n",
       "      <td>9.0</td>\n",
       "      <td>NaN</td>\n",
       "      <td>NaN</td>\n",
       "      <td>5.0</td>\n",
       "      <td>NaN</td>\n",
       "      <td>4.0</td>\n",
       "      <td>32.222550</td>\n",
       "      <td>28.725835</td>\n",
       "      <td>2005</td>\n",
       "    </tr>\n",
       "    <tr>\n",
       "      <th>2</th>\n",
       "      <td>Arizona</td>\n",
       "      <td>538880</td>\n",
       "      <td>4238996</td>\n",
       "      <td>0.127124</td>\n",
       "      <td>225</td>\n",
       "      <td>945</td>\n",
       "      <td>0.238095</td>\n",
       "      <td>NaN</td>\n",
       "      <td>0.000000</td>\n",
       "      <td>NaN</td>\n",
       "      <td>...</td>\n",
       "      <td>NaN</td>\n",
       "      <td>NaN</td>\n",
       "      <td>NaN</td>\n",
       "      <td>NaN</td>\n",
       "      <td>NaN</td>\n",
       "      <td>NaN</td>\n",
       "      <td>NaN</td>\n",
       "      <td>41.753266</td>\n",
       "      <td>19.458849</td>\n",
       "      <td>2005</td>\n",
       "    </tr>\n",
       "    <tr>\n",
       "      <th>3</th>\n",
       "      <td>Arkansas</td>\n",
       "      <td>259304</td>\n",
       "      <td>2023819</td>\n",
       "      <td>0.128126</td>\n",
       "      <td>81</td>\n",
       "      <td>400</td>\n",
       "      <td>0.202500</td>\n",
       "      <td>79.0</td>\n",
       "      <td>0.975309</td>\n",
       "      <td>2.0</td>\n",
       "      <td>...</td>\n",
       "      <td>NaN</td>\n",
       "      <td>NaN</td>\n",
       "      <td>NaN</td>\n",
       "      <td>NaN</td>\n",
       "      <td>16.0</td>\n",
       "      <td>NaN</td>\n",
       "      <td>25.0</td>\n",
       "      <td>31.237466</td>\n",
       "      <td>18.078622</td>\n",
       "      <td>2005</td>\n",
       "    </tr>\n",
       "    <tr>\n",
       "      <th>4</th>\n",
       "      <td>California</td>\n",
       "      <td>2193336</td>\n",
       "      <td>25543447</td>\n",
       "      <td>0.085867</td>\n",
       "      <td>633</td>\n",
       "      <td>3206</td>\n",
       "      <td>0.197442</td>\n",
       "      <td>613.0</td>\n",
       "      <td>0.968404</td>\n",
       "      <td>20.0</td>\n",
       "      <td>...</td>\n",
       "      <td>NaN</td>\n",
       "      <td>NaN</td>\n",
       "      <td>NaN</td>\n",
       "      <td>220.0</td>\n",
       "      <td>NaN</td>\n",
       "      <td>NaN</td>\n",
       "      <td>317.0</td>\n",
       "      <td>28.860147</td>\n",
       "      <td>11.019220</td>\n",
       "      <td>2005</td>\n",
       "    </tr>\n",
       "  </tbody>\n",
       "</table>\n",
       "<p>5 rows × 29 columns</p>\n",
       "</div>"
      ],
      "text/plain": [
       "        state  vet_pop  overall_pop_18  vet_pop_p  vet_suicides  all_suicides  \\\n",
       "0     Alabama   403950         3344721   0.120772           135           535   \n",
       "1      Alaska    74482          446969   0.166638            24           131   \n",
       "2     Arizona   538880         4238996   0.127124           225           945   \n",
       "3    Arkansas   259304         2023819   0.128126            81           400   \n",
       "4  California  2193336        25543447   0.085867           633          3206   \n",
       "\n",
       "   vet_suicides_p  vet_males  vet_males_p  vet_females  ...   vet_35-54  \\\n",
       "0        0.252336        NaN     0.000000          NaN  ...         NaN   \n",
       "1        0.183206       22.0     0.916667          2.0  ...         NaN   \n",
       "2        0.238095        NaN     0.000000          NaN  ...         NaN   \n",
       "3        0.202500       79.0     0.975309          2.0  ...         NaN   \n",
       "4        0.197442      613.0     0.968404         20.0  ...         NaN   \n",
       "\n",
       "   vet_45_54  vet_50_59  vet_45_64  vet_55_64  vet_60  vet_65   vet_rate  \\\n",
       "0        NaN        NaN        NaN        NaN     NaN     NaN  33.419978   \n",
       "1        9.0        NaN        NaN        5.0     NaN     4.0  32.222550   \n",
       "2        NaN        NaN        NaN        NaN     NaN     NaN  41.753266   \n",
       "3        NaN        NaN        NaN       16.0     NaN    25.0  31.237466   \n",
       "4        NaN        NaN      220.0        NaN     NaN   317.0  28.860147   \n",
       "\n",
       "    civ_rate  year  \n",
       "0  13.601875  2005  \n",
       "1  28.725835  2005  \n",
       "2  19.458849  2005  \n",
       "3  18.078622  2005  \n",
       "4  11.019220  2005  \n",
       "\n",
       "[5 rows x 29 columns]"
      ]
     },
     "execution_count": 7,
     "metadata": {},
     "output_type": "execute_result"
    }
   ],
   "source": [
    "df_vets.head()"
   ]
  },
  {
   "cell_type": "code",
   "execution_count": 8,
   "metadata": {},
   "outputs": [
    {
     "name": "stdout",
     "output_type": "stream",
     "text": [
      "Index(['state', 'vet_pop', 'overall_pop_18', 'vet_pop_p', 'vet_suicides',\n",
      "       'all_suicides', 'vet_suicides_p', 'vet_males', 'vet_males_p',\n",
      "       'vet_females', 'vet_females_p', 'vet_15_24', 'vet_18_29', 'vet_17_34',\n",
      "       'vet_25_34', 'vet_30_39', 'vet_25_44', 'vet_35_44', 'vet_40_49',\n",
      "       'vet_35-54', 'vet_45_54', 'vet_50_59', 'vet_45_64', 'vet_55_64',\n",
      "       'vet_60', 'vet_65', 'vet_rate', 'civ_rate', 'year'],\n",
      "      dtype='object')\n"
     ]
    }
   ],
   "source": [
    "print(df_vets.columns)"
   ]
  },
  {
   "cell_type": "markdown",
   "metadata": {},
   "source": [
    "Drop age range columnns, there are too many na values in these columns to reliably report on them. "
   ]
  },
  {
   "cell_type": "code",
   "execution_count": 9,
   "metadata": {
    "collapsed": true
   },
   "outputs": [],
   "source": [
    "drop_col = ['vet_males', 'vet_males_p', 'vet_females', 'vet_females_p', 'vet_15_24', 'vet_18_29', 'vet_17_34', 'vet_25_34', 'vet_30_39', 'vet_25_44', 'vet_35_44', 'vet_40_49', 'vet_35-54', 'vet_45_54', 'vet_50_59', 'vet_45_64', 'vet_55_64', 'vet_60', 'vet_65']\n",
    "df_vets = df_vets.drop(drop_col, axis=1)"
   ]
  },
  {
   "cell_type": "code",
   "execution_count": 10,
   "metadata": {},
   "outputs": [
    {
     "name": "stdout",
     "output_type": "stream",
     "text": [
      "Index(['state', 'vet_pop', 'overall_pop_18', 'vet_pop_p', 'vet_suicides',\n",
      "       'all_suicides', 'vet_suicides_p', 'vet_rate', 'civ_rate', 'year'],\n",
      "      dtype='object')\n"
     ]
    },
    {
     "data": {
      "text/html": [
       "<div>\n",
       "<style>\n",
       "    .dataframe thead tr:only-child th {\n",
       "        text-align: right;\n",
       "    }\n",
       "\n",
       "    .dataframe thead th {\n",
       "        text-align: left;\n",
       "    }\n",
       "\n",
       "    .dataframe tbody tr th {\n",
       "        vertical-align: top;\n",
       "    }\n",
       "</style>\n",
       "<table border=\"1\" class=\"dataframe\">\n",
       "  <thead>\n",
       "    <tr style=\"text-align: right;\">\n",
       "      <th></th>\n",
       "      <th>state</th>\n",
       "      <th>vet_pop</th>\n",
       "      <th>overall_pop_18</th>\n",
       "      <th>vet_pop_p</th>\n",
       "      <th>vet_suicides</th>\n",
       "      <th>all_suicides</th>\n",
       "      <th>vet_suicides_p</th>\n",
       "      <th>vet_rate</th>\n",
       "      <th>civ_rate</th>\n",
       "      <th>year</th>\n",
       "    </tr>\n",
       "  </thead>\n",
       "  <tbody>\n",
       "    <tr>\n",
       "      <th>0</th>\n",
       "      <td>Alabama</td>\n",
       "      <td>403950</td>\n",
       "      <td>3344721</td>\n",
       "      <td>0.120772</td>\n",
       "      <td>135</td>\n",
       "      <td>535</td>\n",
       "      <td>0.252336</td>\n",
       "      <td>33.419978</td>\n",
       "      <td>13.601875</td>\n",
       "      <td>2005</td>\n",
       "    </tr>\n",
       "    <tr>\n",
       "      <th>1</th>\n",
       "      <td>Alaska</td>\n",
       "      <td>74482</td>\n",
       "      <td>446969</td>\n",
       "      <td>0.166638</td>\n",
       "      <td>24</td>\n",
       "      <td>131</td>\n",
       "      <td>0.183206</td>\n",
       "      <td>32.222550</td>\n",
       "      <td>28.725835</td>\n",
       "      <td>2005</td>\n",
       "    </tr>\n",
       "    <tr>\n",
       "      <th>2</th>\n",
       "      <td>Arizona</td>\n",
       "      <td>538880</td>\n",
       "      <td>4238996</td>\n",
       "      <td>0.127124</td>\n",
       "      <td>225</td>\n",
       "      <td>945</td>\n",
       "      <td>0.238095</td>\n",
       "      <td>41.753266</td>\n",
       "      <td>19.458849</td>\n",
       "      <td>2005</td>\n",
       "    </tr>\n",
       "    <tr>\n",
       "      <th>3</th>\n",
       "      <td>Arkansas</td>\n",
       "      <td>259304</td>\n",
       "      <td>2023819</td>\n",
       "      <td>0.128126</td>\n",
       "      <td>81</td>\n",
       "      <td>400</td>\n",
       "      <td>0.202500</td>\n",
       "      <td>31.237466</td>\n",
       "      <td>18.078622</td>\n",
       "      <td>2005</td>\n",
       "    </tr>\n",
       "    <tr>\n",
       "      <th>4</th>\n",
       "      <td>California</td>\n",
       "      <td>2193336</td>\n",
       "      <td>25543447</td>\n",
       "      <td>0.085867</td>\n",
       "      <td>633</td>\n",
       "      <td>3206</td>\n",
       "      <td>0.197442</td>\n",
       "      <td>28.860147</td>\n",
       "      <td>11.019220</td>\n",
       "      <td>2005</td>\n",
       "    </tr>\n",
       "  </tbody>\n",
       "</table>\n",
       "</div>"
      ],
      "text/plain": [
       "        state  vet_pop  overall_pop_18  vet_pop_p  vet_suicides  all_suicides  \\\n",
       "0     Alabama   403950         3344721   0.120772           135           535   \n",
       "1      Alaska    74482          446969   0.166638            24           131   \n",
       "2     Arizona   538880         4238996   0.127124           225           945   \n",
       "3    Arkansas   259304         2023819   0.128126            81           400   \n",
       "4  California  2193336        25543447   0.085867           633          3206   \n",
       "\n",
       "   vet_suicides_p   vet_rate   civ_rate  year  \n",
       "0        0.252336  33.419978  13.601875  2005  \n",
       "1        0.183206  32.222550  28.725835  2005  \n",
       "2        0.238095  41.753266  19.458849  2005  \n",
       "3        0.202500  31.237466  18.078622  2005  \n",
       "4        0.197442  28.860147  11.019220  2005  "
      ]
     },
     "execution_count": 10,
     "metadata": {},
     "output_type": "execute_result"
    }
   ],
   "source": [
    "print(df_vets.columns)\n",
    "df_vets.head()"
   ]
  },
  {
   "cell_type": "markdown",
   "metadata": {},
   "source": [
    "Calculate figures strictly for the civilian population to compare with vets"
   ]
  },
  {
   "cell_type": "code",
   "execution_count": 11,
   "metadata": {
    "collapsed": true
   },
   "outputs": [],
   "source": [
    "df_vets['civ_pop'] = df_vets['overall_pop_18'] - df_vets['vet_pop']\n",
    "df_vets['civ_suicides'] = df_vets['all_suicides'] - df_vets['vet_suicides']\n",
    "df_vets['civ_suicides_p'] = df_vets['civ_suicides'] / df_vets['civ_pop']"
   ]
  },
  {
   "cell_type": "markdown",
   "metadata": {},
   "source": [
    "Clean out asterisks from state names so that we can use the mapping dictionary. "
   ]
  },
  {
   "cell_type": "code",
   "execution_count": 12,
   "metadata": {},
   "outputs": [
    {
     "name": "stdout",
     "output_type": "stream",
     "text": [
      "['Alabama' 'Alaska' 'Arizona' 'Arkansas' 'California' 'Colorado'\n",
      " 'Connecticut' 'Delaware' 'Florida' 'Georgia' 'Hawaii' 'Idaho' 'Illinois'\n",
      " 'Indiana' 'Iowa' 'Kansas' 'Kentucky' 'Louisiana' 'Maine' 'Maryland'\n",
      " 'Massachusetts' 'Michigan' 'Minnesota' 'Mississippi' 'Missouri' 'Montana'\n",
      " 'Nebraska' 'Nevada' 'New Hampshire' 'New Jersey' 'New Mexico' 'New York'\n",
      " 'North Carolina' 'North Dakota' 'Ohio' 'Oklahoma' 'Oregon' 'Pennsylvania'\n",
      " 'Rhode Island' 'South Carolina' 'South Dakota' 'Tennessee' 'Texas' 'Utah'\n",
      " 'Vermont' 'Virginia' 'Washington' 'West Virginia' 'Wisconsin' 'Wyoming']\n"
     ]
    }
   ],
   "source": [
    "df_vets['state'] = df_vets.state.str.replace('*' , '')\n",
    "\n",
    "print(df_vets.state.unique())"
   ]
  },
  {
   "cell_type": "markdown",
   "metadata": {},
   "source": [
    "Find means and medians between vet and civ population"
   ]
  },
  {
   "cell_type": "code",
   "execution_count": 13,
   "metadata": {},
   "outputs": [
    {
     "name": "stdout",
     "output_type": "stream",
     "text": [
      "2005 vet suicide mean: 136.92 \t median: 98.5\n",
      "2006 vet suicide mean: 130.02 \t median: 93.5\n",
      "2007 vet suicide mean: 136.24 \t median: 93.5\n",
      "2008 vet suicide mean: 143.4 \t median: 96.5\n",
      "2009 vet suicide mean: 145.64 \t median: 100.5\n",
      "2010 vet suicide mean: 145.0 \t median: 104.5\n",
      "2011 vet suicide mean: 146.92 \t median: 109.0\n",
      "\n",
      "\n",
      "2005 civ suicide mean: 515.16 \t median: 405.0\n",
      "2006 civ suicide mean: 535.38 \t median: 415.5\n",
      "2007 civ suicide mean: 555.0 \t median: 434.0\n",
      "2008 civ suicide mean: 576.44 \t median: 431.0\n",
      "2009 civ suicide mean: 591.96 \t median: 465.0\n",
      "2010 civ suicide mean: 621.46 \t median: 496.0\n",
      "2011 civ suicide mean: 617.94 \t median: 491.5\n"
     ]
    }
   ],
   "source": [
    "for year in range(2005, 2012):\n",
    "    print(f'{year} vet suicide mean: {df_vets.loc[df_vets[\"year\"] == year][\"vet_suicides\"].mean()} \\t median: {df_vets.loc[df_vets[\"year\"] == year][\"vet_suicides\"].median()}')\n",
    "    \n",
    "print('\\n')\n",
    "\n",
    "for year in range(2005, 2012):\n",
    "    print(f'{year} civ suicide mean: {df_vets.loc[df_vets[\"year\"] == year][\"civ_suicides\"].mean()} \\t median: {df_vets.loc[df_vets[\"year\"] == year][\"civ_suicides\"].median()}')"
   ]
  },
  {
   "cell_type": "code",
   "execution_count": 14,
   "metadata": {
    "collapsed": true
   },
   "outputs": [],
   "source": [
    "nat_vet_suicide_by_year = df_vets.groupby('year')['vet_suicides'].sum()\n",
    "nat_civ_suicide_by_year = df_vets.groupby('year')['civ_suicides'].sum()\n",
    "#nat_population_by_year = df_vets.groupby('year')['overall_pop_18'].sum()"
   ]
  },
  {
   "cell_type": "markdown",
   "metadata": {},
   "source": [
    "Show national trend of veteran suicide compared to civ suicide over time period. "
   ]
  },
  {
   "cell_type": "code",
   "execution_count": 15,
   "metadata": {},
   "outputs": [
    {
     "data": {
      "text/plain": [
       "<matplotlib.legend.Legend at 0x7ff8971434e0>"
      ]
     },
     "execution_count": 15,
     "metadata": {},
     "output_type": "execute_result"
    },
    {
     "data": {
      "image/png": "[encoded data removed]",
      "text/plain": [
       "<matplotlib.figure.Figure at 0x7ff89e616c50>"
      ]
     },
     "metadata": {},
     "output_type": "display_data"
    }
   ],
   "source": [
    "plt.figure(figsize=(12,10))\n",
    "plt.legend(loc='lower right')\n",
    "\n",
    "\n",
    "ax = plt.subplot(1,2,1)\n",
    "ax.set_title('National Veteran Suicide 2005-2011')\n",
    "ax.plot(nat_vet_suicide_by_year, color='b', label = 'Veteran Suicide')\n",
    "plt.xlabel('Year')\n",
    "plt.ylabel('Count')\n",
    "\n",
    "ax = plt.subplot(1,2,2)\n",
    "ax.set_title('National Civilian Suicide 2005-2011')\n",
    "ax.plot(nat_civ_suicide_by_year, color='b', label = 'Civilian Suicide')\n",
    "plt.xlabel('Year')\n",
    "plt.ylabel('Count')\n",
    "\n",
    "plt.legend(loc='lower right')"
   ]
  },
  {
   "cell_type": "markdown",
   "metadata": {},
   "source": [
    "Show same trend on the same graph"
   ]
  },
  {
   "cell_type": "code",
   "execution_count": 16,
   "metadata": {},
   "outputs": [
    {
     "data": {
      "text/plain": [
       "<matplotlib.legend.Legend at 0x7ff8970c84e0>"
      ]
     },
     "execution_count": 16,
     "metadata": {},
     "output_type": "execute_result"
    },
    {
     "data": {
      "image/png": "[encoded data removed]",
      "text/plain": [
       "<matplotlib.figure.Figure at 0x7ff89e665c50>"
      ]
     },
     "metadata": {},
     "output_type": "display_data"
    }
   ],
   "source": [
    "plt.plot(nat_vet_suicide_by_year, color='b', label = 'Veteran Suicide')\n",
    "plt.plot(nat_civ_suicide_by_year, color='g', label = 'Civilian Suicide')\n",
    "plt.legend(loc='upper left')"
   ]
  },
  {
   "cell_type": "code",
   "execution_count": 17,
   "metadata": {},
   "outputs": [
    {
     "name": "stdout",
     "output_type": "stream",
     "text": [
      "Index(['vet_pop', 'overall_pop_18', 'vet_pop_p', 'vet_suicides',\n",
      "       'all_suicides', 'vet_suicides_p', 'vet_rate', 'civ_rate', 'year',\n",
      "       'civ_pop', 'civ_suicides', 'civ_suicides_p'],\n",
      "      dtype='object')\n"
     ]
    },
    {
     "name": "stderr",
     "output_type": "stream",
     "text": [
      "/home/dang/anaconda3/lib/python3.6/site-packages/pandas/core/indexing.py:517: SettingWithCopyWarning: \n",
      "A value is trying to be set on a copy of a slice from a DataFrame.\n",
      "Try using .loc[row_indexer,col_indexer] = value instead\n",
      "\n",
      "See the caveats in the documentation: http://pandas.pydata.org/pandas-docs/stable/indexing.html#indexing-view-versus-copy\n",
      "  self.obj[item] = s\n"
     ]
    }
   ],
   "source": [
    "vet_pop_2005 = df_vets[df_vets['year'] == 2005]\n",
    "vet_pop_2005.loc[:,'state'] = vet_pop_2005.loc[:'state'].replace({'state': state_2_code})\n",
    "vet_pop_2005 = vet_pop_2005.set_index('state')\n",
    "print(vet_pop_2005.columns)"
   ]
  },
  {
   "cell_type": "code",
   "execution_count": 18,
   "metadata": {
    "collapsed": true
   },
   "outputs": [],
   "source": [
    "def plot_pop_vs_suicide(df, year):\n",
    "    plt.figure(figsize=(12,10))\n",
    "    plt.subplot(3, 1, 1)\n",
    "    x = range(50)\n",
    "    plt.bar(x, df['vet_pop'])\n",
    "    plt.xticks([], [])\n",
    "    plt.title(f'{year} Veteran Population Compared to Veteran Suicide Rate')\n",
    "    plt.legend(['Veteran Population'])\n",
    "\n",
    "    plt.subplot(3, 1, 2)\n",
    "    plt.bar(x, df['vet_suicides'])\n",
    "    plt.xticks([], [])\n",
    "    plt.legend(['Veteran suicides'])\n",
    "\n",
    "\n",
    "    plt.subplot(3, 1, 3)\n",
    "    plt.bar(x, df['vet_suicides_p'])\n",
    "    plt.xticks(x, df.index.values, rotation='vertical')\n",
    "    plt.legend(['Veteran suicide rates'])\n",
    "\n",
    "    plt.show()"
   ]
  },
  {
   "cell_type": "code",
   "execution_count": 19,
   "metadata": {},
   "outputs": [
    {
     "data": {
      "image/png": "[encoded data removed]",
      "text/plain": [
       "<matplotlib.figure.Figure at 0x7ff896e77908>"
      ]
     },
     "metadata": {},
     "output_type": "display_data"
    }
   ],
   "source": [
    "vet_pop_2005 = vet_pop_2005.sort_values(by=['vet_pop'], ascending=False)\n",
    "plot_pop_vs_suicide(vet_pop_2005, 2005)"
   ]
  },
  {
   "cell_type": "code",
   "execution_count": 20,
   "metadata": {},
   "outputs": [
    {
     "data": {
      "image/png": "[encoded data removed]",
      "text/plain": [
       "<matplotlib.figure.Figure at 0x7ff896c2b5c0>"
      ]
     },
     "metadata": {},
     "output_type": "display_data"
    }
   ],
   "source": [
    "vet_pop_2005 = vet_pop_2005.sort_values(by=['vet_suicides_p'], ascending=False)\n",
    "plot_pop_vs_suicide(vet_pop_2005, 2005)"
   ]
  },
  {
   "cell_type": "markdown",
   "metadata": {},
   "source": [
    "Load MHI Data"
   ]
  },
  {
   "cell_type": "code",
   "execution_count": 21,
   "metadata": {
    "collapsed": true
   },
   "outputs": [],
   "source": [
    "df_mhi = pd.read_json('Clean_Data/median_household_income_normalized.json')"
   ]
  },
  {
   "cell_type": "code",
   "execution_count": 22,
   "metadata": {},
   "outputs": [
    {
     "data": {
      "text/plain": [
       "Index(['1984 (19)', '1985 (20)', '1986', '1987 (21)', '1988', '1989', '1990',\n",
       "       '1991', '1992 (22)', '1993 (23)', '1994 (24)', '1995 (25)', '1996',\n",
       "       '1997', '1998', '1999 (29)', '2000 (30)', '2001', '2002', '2003',\n",
       "       '2004(revised)', '2005', '2006', '2007', '2008', '2009 (36)',\n",
       "       '2010 (37)', '2011', '2012', '2013 (38)', '2013 (39)', '2014', '2015',\n",
       "       '2016', 'State'],\n",
       "      dtype='object')"
      ]
     },
     "execution_count": 22,
     "metadata": {},
     "output_type": "execute_result"
    }
   ],
   "source": [
    "df_mhi.columns"
   ]
  },
  {
   "cell_type": "code",
   "execution_count": 23,
   "metadata": {},
   "outputs": [
    {
     "data": {
      "text/html": [
       "<div>\n",
       "<style>\n",
       "    .dataframe thead tr:only-child th {\n",
       "        text-align: right;\n",
       "    }\n",
       "\n",
       "    .dataframe thead th {\n",
       "        text-align: left;\n",
       "    }\n",
       "\n",
       "    .dataframe tbody tr th {\n",
       "        vertical-align: top;\n",
       "    }\n",
       "</style>\n",
       "<table border=\"1\" class=\"dataframe\">\n",
       "  <thead>\n",
       "    <tr style=\"text-align: right;\">\n",
       "      <th></th>\n",
       "      <th>1984 (19)</th>\n",
       "      <th>1985 (20)</th>\n",
       "      <th>1986</th>\n",
       "      <th>1987 (21)</th>\n",
       "      <th>1988</th>\n",
       "      <th>1989</th>\n",
       "      <th>1990</th>\n",
       "      <th>1991</th>\n",
       "      <th>1992 (22)</th>\n",
       "      <th>1993 (23)</th>\n",
       "      <th>...</th>\n",
       "      <th>2009 (36)</th>\n",
       "      <th>2010 (37)</th>\n",
       "      <th>2011</th>\n",
       "      <th>2012</th>\n",
       "      <th>2013 (38)</th>\n",
       "      <th>2013 (39)</th>\n",
       "      <th>2014</th>\n",
       "      <th>2015</th>\n",
       "      <th>2016</th>\n",
       "      <th>State</th>\n",
       "    </tr>\n",
       "  </thead>\n",
       "  <tbody>\n",
       "    <tr>\n",
       "      <th>1</th>\n",
       "      <td>49335</td>\n",
       "      <td>50258</td>\n",
       "      <td>52068</td>\n",
       "      <td>52690</td>\n",
       "      <td>53124</td>\n",
       "      <td>54042</td>\n",
       "      <td>53350</td>\n",
       "      <td>51791</td>\n",
       "      <td>51390</td>\n",
       "      <td>51116</td>\n",
       "      <td>...</td>\n",
       "      <td>55683</td>\n",
       "      <td>54245</td>\n",
       "      <td>53401</td>\n",
       "      <td>53331</td>\n",
       "      <td>53518</td>\n",
       "      <td>55214</td>\n",
       "      <td>54398</td>\n",
       "      <td>57230</td>\n",
       "      <td>59039</td>\n",
       "      <td>United States</td>\n",
       "    </tr>\n",
       "    <tr>\n",
       "      <th>10</th>\n",
       "      <td>44918</td>\n",
       "      <td>44849</td>\n",
       "      <td>50866</td>\n",
       "      <td>55508</td>\n",
       "      <td>52180</td>\n",
       "      <td>50015</td>\n",
       "      <td>48805</td>\n",
       "      <td>51377</td>\n",
       "      <td>50738</td>\n",
       "      <td>44675</td>\n",
       "      <td>...</td>\n",
       "      <td>59446</td>\n",
       "      <td>62669</td>\n",
       "      <td>58946</td>\n",
       "      <td>68206</td>\n",
       "      <td>62519</td>\n",
       "      <td>61882</td>\n",
       "      <td>69219</td>\n",
       "      <td>70956</td>\n",
       "      <td>70982</td>\n",
       "      <td>D.C.</td>\n",
       "    </tr>\n",
       "    <tr>\n",
       "      <th>11</th>\n",
       "      <td>43547</td>\n",
       "      <td>45417</td>\n",
       "      <td>47785</td>\n",
       "      <td>49512</td>\n",
       "      <td>49575</td>\n",
       "      <td>48768</td>\n",
       "      <td>47545</td>\n",
       "      <td>46851</td>\n",
       "      <td>45877</td>\n",
       "      <td>46713</td>\n",
       "      <td>...</td>\n",
       "      <td>51045</td>\n",
       "      <td>48510</td>\n",
       "      <td>48121</td>\n",
       "      <td>48161</td>\n",
       "      <td>49341</td>\n",
       "      <td>50007</td>\n",
       "      <td>46777</td>\n",
       "      <td>49442</td>\n",
       "      <td>51176</td>\n",
       "      <td>Florida</td>\n",
       "    </tr>\n",
       "    <tr>\n",
       "      <th>12</th>\n",
       "      <td>43985</td>\n",
       "      <td>44791</td>\n",
       "      <td>50966</td>\n",
       "      <td>54010</td>\n",
       "      <td>51838</td>\n",
       "      <td>51492</td>\n",
       "      <td>49106</td>\n",
       "      <td>46782</td>\n",
       "      <td>48306</td>\n",
       "      <td>51807</td>\n",
       "      <td>...</td>\n",
       "      <td>48483</td>\n",
       "      <td>48566</td>\n",
       "      <td>49047</td>\n",
       "      <td>50304</td>\n",
       "      <td>48881</td>\n",
       "      <td>48420</td>\n",
       "      <td>50239</td>\n",
       "      <td>51410</td>\n",
       "      <td>53527</td>\n",
       "      <td>Georgia</td>\n",
       "    </tr>\n",
       "    <tr>\n",
       "      <th>13</th>\n",
       "      <td>63558</td>\n",
       "      <td>61627</td>\n",
       "      <td>60655</td>\n",
       "      <td>70807</td>\n",
       "      <td>64440</td>\n",
       "      <td>65500</td>\n",
       "      <td>69346</td>\n",
       "      <td>64032</td>\n",
       "      <td>70642</td>\n",
       "      <td>69803</td>\n",
       "      <td>...</td>\n",
       "      <td>62252</td>\n",
       "      <td>65543</td>\n",
       "      <td>62995</td>\n",
       "      <td>58815</td>\n",
       "      <td>63274</td>\n",
       "      <td>66187</td>\n",
       "      <td>72206</td>\n",
       "      <td>65329</td>\n",
       "      <td>72133</td>\n",
       "      <td>Hawaii</td>\n",
       "    </tr>\n",
       "  </tbody>\n",
       "</table>\n",
       "<p>5 rows × 35 columns</p>\n",
       "</div>"
      ],
      "text/plain": [
       "    1984 (19)  1985 (20)   1986  1987 (21)   1988   1989   1990   1991  \\\n",
       "1       49335      50258  52068      52690  53124  54042  53350  51791   \n",
       "10      44918      44849  50866      55508  52180  50015  48805  51377   \n",
       "11      43547      45417  47785      49512  49575  48768  47545  46851   \n",
       "12      43985      44791  50966      54010  51838  51492  49106  46782   \n",
       "13      63558      61627  60655      70807  64440  65500  69346  64032   \n",
       "\n",
       "    1992 (22)  1993 (23)      ...        2009 (36)  2010 (37)   2011   2012  \\\n",
       "1       51390      51116      ...            55683      54245  53401  53331   \n",
       "10      50738      44675      ...            59446      62669  58946  68206   \n",
       "11      45877      46713      ...            51045      48510  48121  48161   \n",
       "12      48306      51807      ...            48483      48566  49047  50304   \n",
       "13      70642      69803      ...            62252      65543  62995  58815   \n",
       "\n",
       "    2013 (38)  2013 (39)   2014   2015   2016          State  \n",
       "1       53518      55214  54398  57230  59039  United States  \n",
       "10      62519      61882  69219  70956  70982           D.C.  \n",
       "11      49341      50007  46777  49442  51176        Florida  \n",
       "12      48881      48420  50239  51410  53527        Georgia  \n",
       "13      63274      66187  72206  65329  72133         Hawaii  \n",
       "\n",
       "[5 rows x 35 columns]"
      ]
     },
     "execution_count": 23,
     "metadata": {},
     "output_type": "execute_result"
    }
   ],
   "source": [
    "df_mhi.head()"
   ]
  },
  {
   "cell_type": "code",
   "execution_count": 24,
   "metadata": {
    "scrolled": true
   },
   "outputs": [
    {
     "data": {
      "text/plain": [
       "array([ 1, 10, 11, 12, 13, 14, 15, 16, 17, 18, 19,  2, 20, 21, 22, 23, 24,\n",
       "       25, 26, 27, 28, 29,  3, 30, 31, 32, 33, 34, 35, 36, 37, 38, 39,  4,\n",
       "       40, 41, 42, 43, 44, 45, 46, 47, 48, 49,  5, 50, 51, 52,  6,  7,  8,\n",
       "        9])"
      ]
     },
     "execution_count": 24,
     "metadata": {},
     "output_type": "execute_result"
    }
   ],
   "source": [
    "df_mhi.index.values"
   ]
  },
  {
   "cell_type": "code",
   "execution_count": 25,
   "metadata": {},
   "outputs": [],
   "source": [
    "df_mhi = df_mhi[['2005', '2006', '2007', '2008', '2009 (36)', '2010 (37)', '2011', 'State']]\n",
    "# df.rename(index=str, columns={\"A\": \"a\", \"C\": \"c\"})\n",
    "df_mhi = df_mhi.rename(index=str, columns={\"State\": \"state\", \"2009 (36)\": \"2009\", \"2010 (37)\": \"2010\"})"
   ]
  },
  {
   "cell_type": "code",
   "execution_count": 26,
   "metadata": {},
   "outputs": [
    {
     "name": "stdout",
     "output_type": "stream",
     "text": [
      "Index(['2005', '2006', '2007', '2008', '2009', '2010', '2011', 'state'], dtype='object')\n"
     ]
    }
   ],
   "source": [
    "print(df_mhi.columns)"
   ]
  },
  {
   "cell_type": "code",
   "execution_count": 27,
   "metadata": {},
   "outputs": [
    {
     "name": "stdout",
     "output_type": "stream",
     "text": [
      "     2005          state\n",
      "1   56935  United States\n",
      "10  55296           D.C.\n",
      "11  52835        Florida\n",
      "12  56443        Georgia\n",
      "13  73231         Hawaii\n",
      "     2006          state\n",
      "1   57379  United States\n",
      "10  57708           D.C.\n",
      "11  54373        Florida\n",
      "12  58740        Georgia\n",
      "13  71984         Hawaii\n",
      "     2007          state\n",
      "1   58149  United States\n",
      "10  58786           D.C.\n",
      "11  53010        Florida\n",
      "12  56306        Georgia\n",
      "13  74111         Hawaii\n",
      "     2008          state\n",
      "1   56076  United States\n",
      "10  61970           D.C.\n",
      "11  50005        Florida\n",
      "12  51532        Georgia\n",
      "13  68581         Hawaii\n",
      "     2009          state\n",
      "1   55683  United States\n",
      "10  59446           D.C.\n",
      "11  51045        Florida\n",
      "12  48483        Georgia\n",
      "13  62252         Hawaii\n",
      "     2010          state\n",
      "1   54245  United States\n",
      "10  62669           D.C.\n",
      "11  48510        Florida\n",
      "12  48566        Georgia\n",
      "13  65543         Hawaii\n",
      "     2011          state\n",
      "1   53401  United States\n",
      "10  58946           D.C.\n",
      "11  48121        Florida\n",
      "12  49047        Georgia\n",
      "13  62995         Hawaii\n"
     ]
    },
    {
     "data": {
      "text/html": [
       "<div>\n",
       "<style>\n",
       "    .dataframe thead tr:only-child th {\n",
       "        text-align: right;\n",
       "    }\n",
       "\n",
       "    .dataframe thead th {\n",
       "        text-align: left;\n",
       "    }\n",
       "\n",
       "    .dataframe tbody tr th {\n",
       "        vertical-align: top;\n",
       "    }\n",
       "</style>\n",
       "<table border=\"1\" class=\"dataframe\">\n",
       "  <thead>\n",
       "    <tr style=\"text-align: right;\">\n",
       "      <th></th>\n",
       "      <th>state</th>\n",
       "      <th>vet_pop</th>\n",
       "      <th>overall_pop_18</th>\n",
       "      <th>vet_pop_p</th>\n",
       "      <th>vet_suicides</th>\n",
       "      <th>all_suicides</th>\n",
       "      <th>vet_suicides_p</th>\n",
       "      <th>vet_rate</th>\n",
       "      <th>civ_rate</th>\n",
       "      <th>year</th>\n",
       "      <th>civ_pop</th>\n",
       "      <th>civ_suicides</th>\n",
       "      <th>civ_suicides_p</th>\n",
       "      <th>2011</th>\n",
       "    </tr>\n",
       "  </thead>\n",
       "  <tbody>\n",
       "    <tr>\n",
       "      <th>0</th>\n",
       "      <td>Alabama</td>\n",
       "      <td>403950</td>\n",
       "      <td>3344721</td>\n",
       "      <td>0.120772</td>\n",
       "      <td>135</td>\n",
       "      <td>535</td>\n",
       "      <td>0.252336</td>\n",
       "      <td>33.419978</td>\n",
       "      <td>13.601875</td>\n",
       "      <td>2005</td>\n",
       "      <td>2940771</td>\n",
       "      <td>400</td>\n",
       "      <td>0.000136</td>\n",
       "      <td>45438</td>\n",
       "    </tr>\n",
       "    <tr>\n",
       "      <th>1</th>\n",
       "      <td>Alaska</td>\n",
       "      <td>74482</td>\n",
       "      <td>446969</td>\n",
       "      <td>0.166638</td>\n",
       "      <td>24</td>\n",
       "      <td>131</td>\n",
       "      <td>0.183206</td>\n",
       "      <td>32.222550</td>\n",
       "      <td>28.725835</td>\n",
       "      <td>2005</td>\n",
       "      <td>372487</td>\n",
       "      <td>107</td>\n",
       "      <td>0.000287</td>\n",
       "      <td>61271</td>\n",
       "    </tr>\n",
       "    <tr>\n",
       "      <th>2</th>\n",
       "      <td>Arizona</td>\n",
       "      <td>538880</td>\n",
       "      <td>4238996</td>\n",
       "      <td>0.127124</td>\n",
       "      <td>225</td>\n",
       "      <td>945</td>\n",
       "      <td>0.238095</td>\n",
       "      <td>41.753266</td>\n",
       "      <td>19.458849</td>\n",
       "      <td>2005</td>\n",
       "      <td>3700116</td>\n",
       "      <td>720</td>\n",
       "      <td>0.000195</td>\n",
       "      <td>51872</td>\n",
       "    </tr>\n",
       "    <tr>\n",
       "      <th>3</th>\n",
       "      <td>Arkansas</td>\n",
       "      <td>259304</td>\n",
       "      <td>2023819</td>\n",
       "      <td>0.128126</td>\n",
       "      <td>81</td>\n",
       "      <td>400</td>\n",
       "      <td>0.202500</td>\n",
       "      <td>31.237466</td>\n",
       "      <td>18.078622</td>\n",
       "      <td>2005</td>\n",
       "      <td>1764515</td>\n",
       "      <td>319</td>\n",
       "      <td>0.000181</td>\n",
       "      <td>44064</td>\n",
       "    </tr>\n",
       "    <tr>\n",
       "      <th>4</th>\n",
       "      <td>California</td>\n",
       "      <td>2193336</td>\n",
       "      <td>25543447</td>\n",
       "      <td>0.085867</td>\n",
       "      <td>633</td>\n",
       "      <td>3206</td>\n",
       "      <td>0.197442</td>\n",
       "      <td>28.860147</td>\n",
       "      <td>11.019220</td>\n",
       "      <td>2005</td>\n",
       "      <td>23350111</td>\n",
       "      <td>2573</td>\n",
       "      <td>0.000110</td>\n",
       "      <td>56936</td>\n",
       "    </tr>\n",
       "  </tbody>\n",
       "</table>\n",
       "</div>"
      ],
      "text/plain": [
       "        state  vet_pop  overall_pop_18  vet_pop_p  vet_suicides  all_suicides  \\\n",
       "0     Alabama   403950         3344721   0.120772           135           535   \n",
       "1      Alaska    74482          446969   0.166638            24           131   \n",
       "2     Arizona   538880         4238996   0.127124           225           945   \n",
       "3    Arkansas   259304         2023819   0.128126            81           400   \n",
       "4  California  2193336        25543447   0.085867           633          3206   \n",
       "\n",
       "   vet_suicides_p   vet_rate   civ_rate  year   civ_pop  civ_suicides  \\\n",
       "0        0.252336  33.419978  13.601875  2005   2940771           400   \n",
       "1        0.183206  32.222550  28.725835  2005    372487           107   \n",
       "2        0.238095  41.753266  19.458849  2005   3700116           720   \n",
       "3        0.202500  31.237466  18.078622  2005   1764515           319   \n",
       "4        0.197442  28.860147  11.019220  2005  23350111          2573   \n",
       "\n",
       "   civ_suicides_p   2011  \n",
       "0        0.000136  45438  \n",
       "1        0.000287  61271  \n",
       "2        0.000195  51872  \n",
       "3        0.000181  44064  \n",
       "4        0.000110  56936  "
      ]
     },
     "execution_count": 27,
     "metadata": {},
     "output_type": "execute_result"
    }
   ],
   "source": [
    "#TODO: merge MHI data into df_vets by state then by year. \n",
    "df_vets_joined = df_vets \n",
    "for year in range(2005, 2012):\n",
    "    temp = df_mhi[[str(year), 'state']]\n",
    "    print(temp.head())\n",
    "    df_vets_joined['mhi'] = pd.merge(df_vets, temp, on='state', how='left')\n",
    "\n",
    "df_vets_joined.head()"
   ]
  }
 ],
 "metadata": {
  "kernelspec": {
   "display_name": "Python 3",
   "language": "python",
   "name": "python3"
  },
  "language_info": {
   "codemirror_mode": {
    "name": "ipython",
    "version": 3
   },
   "file_extension": ".py",
   "mimetype": "text/x-python",
   "name": "python",
   "nbconvert_exporter": "python",
   "pygments_lexer": "ipython3",
   "version": "3.6.3"
  }
 },
 "nbformat": 4,
 "nbformat_minor": 2
}
