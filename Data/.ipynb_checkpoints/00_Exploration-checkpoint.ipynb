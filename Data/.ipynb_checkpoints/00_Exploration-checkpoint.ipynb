{
 "cells": [
  {
   "cell_type": "code",
   "execution_count": 2,
   "metadata": {},
   "outputs": [],
   "source": [
    "%matplotlib inline\n",
    "\n",
    "import numpy as np\n",
    "import pandas as pd\n",
    "import matplotlib.pyplot as plt\n"
   ]
  },
  {
   "cell_type": "code",
   "execution_count": 11,
   "metadata": {},
   "outputs": [],
   "source": []
  },
  {
   "cell_type": "code",
   "execution_count": 12,
   "metadata": {},
   "outputs": [],
   "source": []
  },
  {
   "cell_type": "code",
   "execution_count": 13,
   "metadata": {
    "collapsed": true
   },
   "outputs": [],
   "source": [
    "df_2005 = pd.read_csv('vet_2005.csv', index_col=False)\n",
    "df_2005['year'] = pd.Series(2005, index=df.index)\n",
    "\n",
    "df_2006 = pd.read_csv('vet_2006.csv', index_col=False)\n",
    "df_2006['year'] = pd.Series(2006, index=df.index)\n",
    "\n",
    "df_2007 = pd.read_csv('vet_2007.csv', index_col=False)\n",
    "df_2007['year'] = pd.Series(2007, index=df.index)\n",
    "\n",
    "df_2008 = pd.read_csv('vet_2008.csv', index_col=False)\n",
    "df_2008['year'] = pd.Series(2008, index=df.index)\n",
    "\n",
    "df_2009 = pd.read_csv('vet_2009.csv', index_col=False)\n",
    "df_2009['year'] = pd.Series(2009, index=df.index)\n",
    "\n",
    "df_2010 = pd.read_csv('vet_2010.csv', index_col=False)\n",
    "df_2010['year'] = pd.Series(2010, index=df.index)\n",
    "\n",
    "df_2011 = pd.read_csv('vet_2011.csv', index_col=False)\n",
    "df_2011['year'] = pd.Series(2011, index=df.index)"
   ]
  },
  {
   "cell_type": "code",
   "execution_count": null,
   "metadata": {
    "collapsed": true
   },
   "outputs": [],
   "source": []
  }
 ],
 "metadata": {
  "kernelspec": {
   "display_name": "Python 3",
   "language": "python",
   "name": "python3"
  },
  "language_info": {
   "codemirror_mode": {
    "name": "ipython",
    "version": 3
   },
   "file_extension": ".py",
   "mimetype": "text/x-python",
   "name": "python",
   "nbconvert_exporter": "python",
   "pygments_lexer": "ipython3",
   "version": "3.6.3"
  }
 },
 "nbformat": 4,
 "nbformat_minor": 2
}
