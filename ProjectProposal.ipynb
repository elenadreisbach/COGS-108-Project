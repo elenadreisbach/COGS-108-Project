{
 "cells": [
  {
   "cell_type": "markdown",
   "metadata": {},
   "source": [
    "# COGS 108 - Project Proposal"
   ]
  },
  {
   "cell_type": "markdown",
   "metadata": {},
   "source": [
    "## Important\n",
    "\n",
    "- Make sure all group members (3-5 people) are listed in the group members section.\n",
    "- ONE, and only one, member of your group should upload this notebook to TritonED. \n",
    "- Each member of the group will receive the same grade on this assignment. \n",
    "- Keep the file name the same: submit the file 'ProjectProposal.ipynb'"
   ]
  },
  {
   "cell_type": "markdown",
   "metadata": {},
   "source": [
    "## Overview"
   ]
  },
  {
   "cell_type": "markdown",
   "metadata": {},
   "source": [
    "Read the project description and detailed instructions for this assignment in the 'ProjectOutline' document."
   ]
  },
  {
   "cell_type": "markdown",
   "metadata": {},
   "source": [
    "## Group Members: Fill in the Student IDs of each group member here\n",
    "\n",
    "Replace the lines below to list each persons full student ID. Add lines as needed for your group size, and make sure each ID is listed on a separate line. \n",
    "\n",
    "- Elena Dreisbach: A13169440\n",
    "- Tarun Pasumarthi: A12098060\n",
    "- Stephan Somers: A12349848\n",
    "- Dang Le: A14269781"
   ]
  },
  {
   "cell_type": "markdown",
   "metadata": {},
   "source": [
    "### Research Question\n",
    "\n",
    "What is your research question? (1-2 sentences)"
   ]
  },
  {
   "cell_type": "markdown",
   "metadata": {},
   "source": [
    "Does socioeconomic status have an effect on veteran suicide rates?"
   ]
  },
  {
   "cell_type": "markdown",
   "metadata": {},
   "source": [
    "### Hypothesis\n",
    "\n",
    "What is your main hypothesis and predictions? (2-3 sentences)"
   ]
  },
  {
   "cell_type": "markdown",
   "metadata": {},
   "source": [
    "We believe that lower socioeconomic status will increase the risk of veteran suicide, while higher socioeconomic status will lower it. It seems plausible that, if a military service member finishes their time in the uniformed services and finds themselves in a difficult situation (e.g. unable to find a job, pay rent), they might be more at risk for mental health concerns leading to suicide. "
   ]
  },
  {
   "cell_type": "markdown",
   "metadata": {},
   "source": [
    "### Dataset(s)\n",
    "\n",
    "What data will you use to answer your question? Describe the dataset(s) in terms of number of observations, what kind of features it contains, etc. You must use at least one dataset containing at least approximately 1000 observations (if your data are smaller but you feel they are sufficient, email Prof. Voytek). You are welcome (and in fact recommended) to find multiple datasets! If you do so, describe each one, and briefly explain how you will combine them together. "
   ]
  },
  {
   "cell_type": "markdown",
   "metadata": {},
   "source": [
    "The following dataset shows the comparison of state suicide rates between American civilians and veterans - we will use this to compare veteran suicide to socioeconomic status.\n",
    "- Dataset Name: Suicide Rates by State\n",
    "- Link to the dataset: https://backhome.news21.com/interactive/suicide-interactive/\n",
    "- Number of observations: 249,874\n",
    "\n",
    "\n",
    "\n",
    "The following dataset shows the median household income of each U.S. state. We will use this and the next three datasets to create a visualization of socioeconomic status. \n",
    "- Dataset Name: Median Household Income by State\n",
    "- Link to the dataset:https://www.census.gov/data/tables/time-series/demo/income-poverty/historical-income-households.html\n",
    "- Number of observations: 1768\n",
    "\n",
    "\n",
    "\n",
    "The following dataset shows the number of employed vs. unemployed Americans and is being used to find unemployment rates of states. We will use this and the next two datasets to create a visualization of socioeconomic status. \n",
    "- Dataset Name: Labor Force Data By County\n",
    "- Link to the dataset:https://www.bls.gov/lau/\n",
    "- Number of observations: 155,826,564*\n",
    "\n",
    "\n",
    "\n",
    "The following dataset lists the housing price index by state, from which we will use this and the next dataset to create a visualization of socioeconomic status. \n",
    "- Dataset Name: Housing Price Index by State\n",
    "- Link to the dataset:https://www.fhfa.gov/DataTools/Downloads/Pages/House-Price-Index-Datasets.aspx\n",
    "- Number of observations: 1632\n",
    "\n",
    "\n",
    "\n",
    "\n",
    "We plan to look at the datasets to discover if there is a correlation between socioeconomic status and suicide rate. We are using housing price index, median household income, and unemployment rates to judge the socioeconomic status of the state.\n",
    "\n",
    "\n",
    "*This number is for one year of our data. We will be using 7 years of data for this analysis."
   ]
  },
  {
   "cell_type": "markdown",
   "metadata": {},
   "source": [
    "### Background and Prior Work\n",
    "\n",
    "Why is this question of interest, what background information led you to your hypothesis, and why is this important?\n",
    "\n",
    "Find some relevant prior work, and reference those sources. Even if you think you have a totally novel question, find the most similar prior work that you can and discuss how it relates to your project. \n",
    "\n",
    "References can be research publications, but they need not be. Blogs, github repositories, company websites, etc., are all viable references if they are relevant to your project.\n",
    "\n",
    "(2-3 paragraphs, including at least 2 references)"
   ]
  },
  {
   "cell_type": "markdown",
   "metadata": {},
   "source": [
    "It is a known fact that veterans are at a higher risk of suicide in comparison to the general population, however the extreme degree to which this is true is not nearly as well understood. According to the U.S. Department of Veteran Affairs, in comparison to the general population deployed veterans are at a 41% higher risk of suicide and non-deployed veterans are at a 61% higher risk. These abnormally high rates of suicide could be attributed to many factors that come with the high stress risk of joining the military. Research has been done showing an inverse relation between suicide rates and socioeconomic status when analyzed at a community level, and we are interested how this might relate to the statistic for veterans (Rehkopf DH, Buka SL 2006).\n",
    "    \n",
    "We hypothesize that lower socioeconomic status will increase suicide rates, while better socioeconomic well-being will lower suicide rates among veterans. We believe that once veterans leave the military, they lose the structure in their life which they are used to after being placed in high-stress situations. This removal of constant structure might place veterans in a lower than average socioeconomic status, thus placing them at higher risks for mental health issues related to suicide. This is incredibly important as this could help address where veterans suicide resources can best be utilized, as well as identifying which groups need more support post-service. \n",
    "\n",
    "References (include links):\n",
    "- 1) US Department of Veterans Affairs, Veterans Health Administration. “Public Health.” Suicide Risk and Risk of Death Among Recent Veterans - Public Health, 16 Jan. 2015, www.publichealth.va.gov/epidemiology/studies/suicide-risk-death-risk-recent-veterans.asp.\n",
    "- 2)Rehkopf DH, Buka SL. The association between suicide and the socio-economic\n",
    "characteristics of geographical areas: a systematic review. Psychol Med. 2006\n",
    "Feb;36(2):145-57. Review. PubMed PMID: 16420711.\n",
    "https://www.ncbi.nlm.nih.gov/pubmed/16420711"
   ]
  },
  {
   "cell_type": "markdown",
   "metadata": {},
   "source": [
    "### Proposed Methods\n",
    "\n",
    "What methods will you use to analyze your data?\n",
    "\n",
    "- How 'clean' is the data? To the extent that it requires cleaning, how will you do so?\n",
    "- How will you analyze the data? Be as specific as you can. Briefly mention any pre-processing steps that are required for your methods (for example, checking data distributions and performing any transformations that may be required). Include a brief outline of how you will apply your chosen method(s). \n",
    "- What do you plan to report? Briefly mention any key visualizations you plan to create, and/or the kind of results you will be able to report that address your question (this could be, for example, the outcome of some statistical test(s), prediction error on a model, a model fit parameter, etc.).\n",
    "- Include a list of packages you expect to use for you project. If you plan to use packages we have not used in class, add a very brief description about them (a few words is sufficient). "
   ]
  },
  {
   "cell_type": "markdown",
   "metadata": {},
   "source": [
    "*Fill in your proposed methods information here:*\n",
    "\n",
    "*Data Cleaning (2-3 sentences)*\n",
    "\n",
    "The data thus far has been relatively clean, only requiring minimal cleaning. The most important data set for us was that which detailed veteran suicides by state. This data included demographic columns such as gender and age group, but because there were so many NaN values in these columns, we decided to drop them. Also, the veteran suicide data had values for veterans and overall population, so we had to subtract veteran related figures from the overall population figures to determine civilian specific figures. The rest of our data sets were shaped according to the columns present in the veteran suicide dataset, primarily state and year. For the Median Household Income dataset, it was necessary to decide between data which normalized the data to the current dollar or the 2016 dollar, and also remove columns which were unnecessary for our current use of the data (such as yearly standard error for the data). The Unemployment data was aggregated by county - as the analysis that we are doing is across states, it was necessary to group counties into their respective states. Similarly, the Housing Price Index data was organized by quarter - as our analysis is being conducted over a yearly time frame, we decided to organize this data into yearly categories. \n",
    "\n",
    "*Data Analysis (1-2 paragraphs)*\n",
    "\n",
    "In regards to how we will analyze our data, we will be cross-referencing the Veteran Suicide Data with each of the other datasets in regards to year, including Housing Price Index, Median Household Income, and Unemployment Rates for each year that we have available data. This will help us to understand which factors are most closely linked to veteran suicide rates and which factors are not. Later on in our analysis we can start to postulate why we got these results. In addition, looking to see if the trend of correlation persists will help us determine if the correlation was legitimate or not.\n",
    "\n",
    "Similarly, we will be cross-referencing the Veteran Suicide Data with each of the other datasets in regards to state, including Housing Price Index, Median Household Income, and Unemployment Rates for each state that we have available data. Whereas the previous graphs gave us an indication of which factors could be most correlated to veteran suicide, these graphs will help determine if those factors are indeed indicative of suicide rates. Since our previous graphs only depend on 7 graphs, it may be that a few states caused the correlation to lean a certain way, and this might not have changed much in the span of the 6 years that we are studying. However, if we were to analyze if such correlation holds for all or most states based on the changes from year to year for that state, then we can confirm the relation between the given factor and suicide rates.\n",
    "\n",
    "*What to report (2-3 sentences)*\n",
    "\n",
    "We are hoping to do a heat map of the United States in order to visualize our data. However, if we have difficulty with this we will resort to the typical histograms, scatter plots, etc. We will be graphing correlations between various features and veteran suicides using a model fit parameter.\n",
    "\n",
    "\n",
    "Packages we plan to use:\n",
    "- NumPy\n",
    "- pandas\n",
    "- matplotlib\n",
    "- pickle (a library that allows us to export Python dictionaries to a file)"
   ]
  },
  {
   "cell_type": "markdown",
   "metadata": {},
   "source": [
    "### Ethics and Privacy\n",
    "\n",
    "\n",
    "\n",
    "\n",
    "Briefly acknowledge and address any potential issues of ethics and privacy for the proposed project. In particular:\n",
    "- Do you have permission to use this data, for this purpose?\n",
    "- Are there privacy concerns regarding your datasets that you need to deal with, and/or terms of use that you need to comply with?\n",
    "- Are there potential biases in your dataset(s), in terms of who it composes, and how it was collected, that may be problematic in terms of it allowing for equitable analysis? (For example, does your data exclude particular populations, or is it likely to reflect particular human biases in a way that could be a problem?) \n",
    "- Are there any other issues related to your topic area, data, and/or analyses that are potentially problematic in terms of data privacy and equitable impact?\n",
    "- How will you handle any issues you identify?\n",
    "\n",
    "(1-2 paragraphs)"
   ]
  },
  {
   "cell_type": "markdown",
   "metadata": {},
   "source": [
    "The data we are accessing is publicly available for use, and we were unable to find any permission restrictions. However, as the data does concern veterans there is an increased necessity for protection of data which involves identifying information. We were lucky enough to find a dataset which had minimal identifying information (only involving state, year of death, and number of suicides within that state), and we dropped potentially identifying columns like gender and age group. One potential issue arises in states where there are few suicides within a given year - it would not be incredibly difficult to track down certain individuals within the armed forces who had committed suicide in a specific state during a specific year. The one potential ethical issue that we have discussed involves veterans data, however our datasets do not include any protected information as they are representative of the overall population rather than specific people. If something of this sort were to arise, we could easily mitigate the issue by removing the sensitive information (such as names or zip codes). \n",
    "\n",
    "There is always the potential for bias within datasets; however, as our datasets are quite large, the potential for bias is significantly reduced. Additionally, the majority of our data was collected by government agencies (such as the U.S. Census Bureau and The Center for Disease Control) who are using reliable data collection methods so as to limit the amount of bias within the data collection process. As such, it is unlikely to come across bias across data since they are collected through similarly regimented and structured methods. If we identify any issues in regards to privacy or bias, we will simply remove that problematic data. With datasets as large as ours, removal of a relatively small amount of data should not have a strong impact on our data analysis."
   ]
  },
  {
   "cell_type": "markdown",
   "metadata": {},
   "source": [
    "### Discussion\n",
    "\n",
    "Discuss your project, looking forward to what your results might mean, how they fit it in with what is already known, and what problems you may encounter. \n",
    "\n",
    "In particular:\n",
    "- If your analyses and hypotheses are correct, what will be the contribution of this project to the topic domain? \n",
    "- Alternatively, what will you do if you methods don't work and/or your hypotheses are wrong? \n",
    "- What are the potential pitfalls and potential confounds of your data and/or methods that may cause problems, and/or influence your interpretations?\n",
    "\n",
    "(2-3 paragraphs)"
   ]
  },
  {
   "cell_type": "markdown",
   "metadata": {},
   "source": [
    "If our analyses and hypotheses are correct, it would perhaps be possible to better distribute suicide prevention resources among veterans, or perhaps change those resources which are provided to veterans. If our methods or our hypotheses are incorrect, it will be necessary to understand either exactly where our analysis went wrong, or whether our initial assumptions were ill-founded. One of the major roadblocks we have come across is gaining access to veteran-specific data, and this might result in problems in regards to our data analysis, which is mentioned below. If our hypotheses were incorrect, it may be strongly affected by the datasets which we used for this project. In order to perform better analyses, it may be necessary to gain access to data directly concerning veterans. \n",
    "\n",
    "At the moment, we recognize that the data which we are using to create a visualization of socioeconomic status is not veteran-specific, but instead concerns the entire population. In order to avoid this potential pitfall, we are going to analyze socioeconomic status in regards to both veteran and civilian suicide rates. In doing so, we hope to determine whether or not socioeconomic status has a greater impact on veteran suicide than civilian suicide, or if the impact is negligible between the two groups. "
   ]
  }
 ],
 "metadata": {
  "kernelspec": {
   "display_name": "Python 3",
   "language": "python",
   "name": "python3"
  },
  "language_info": {
   "codemirror_mode": {
    "name": "ipython",
    "version": 3
   },
   "file_extension": ".py",
   "mimetype": "text/x-python",
   "name": "python",
   "nbconvert_exporter": "python",
   "pygments_lexer": "ipython3",
   "version": "3.6.3"
  }
 },
 "nbformat": 4,
 "nbformat_minor": 2
}
