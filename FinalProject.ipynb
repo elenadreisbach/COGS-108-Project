{
 "cells": [
  {
   "cell_type": "markdown",
   "metadata": {
    "collapsed": true
   },
   "source": [
    "# Introduction and Background"
   ]
  },
  {
   "cell_type": "markdown",
   "metadata": {},
   "source": [
    "It is a known fact that veterans are at a higher risk of suicide in comparison to the general population, however the extreme degree to which this is true is not nearly as well understood. According to the U.S. Department of Veteran Affairs, in comparison to the general population deployed veterans are at a 41% higher risk of suicide and non-deployed veterans are at a 61% higher risk. These abnormally high rates of suicide could be attributed to many factors that come with the high stress risk of joining the military. Research has been done showing an inverse relation between suicide rates and socioeconomic status when analyzed at a community level, and we are interested how this might relate to the statistic for veterans (Rehkopf DH, Buka SL 2006).\n",
    "\n",
    "We hypothesize that lower socioeconomic status will increase suicide rates, while better socioeconomic well-being will lower suicide rates among veterans. We believe that once veterans leave the military, they lose the structure in their life which they are used to after being placed in high-stress situations. This removal of constant structure might place veterans in a lower than average socioeconomic status, thus placing them at higher risks for mental health issues related to suicide. This is incredibly important as this could help address where veterans suicide resources can best be utilized, as well as identifying which groups need more support post-service."
   ]
  },
  {
   "cell_type": "markdown",
   "metadata": {},
   "source": [
    "# Data Description"
   ]
  },
  {
   "cell_type": "markdown",
   "metadata": {},
   "source": [
    "# Data Cleaning/Pre-Processing"
   ]
  },
  {
   "cell_type": "markdown",
   "metadata": {},
   "source": [
    "# Data Visualization"
   ]
  },
  {
   "cell_type": "markdown",
   "metadata": {},
   "source": [
    "# Data Analysis and Results"
   ]
  },
  {
   "cell_type": "markdown",
   "metadata": {},
   "source": [
    "# Privacy/Ethics Considerations"
   ]
  },
  {
   "cell_type": "markdown",
   "metadata": {},
   "source": [
    "PARAGRAPH ABOUT POTENTIAL BIASES: As our data was pulled from a census survey, there exists some inherent bias within the survey process. For example, \n",
    "\n",
    "The data we are accessing is publicly available for use, and we were unable to find any permission restrictions. However, as the data does concern veterans there is an increased necessity for protection of data which involves identifying information. We were lucky enough to find a dataset which had minimal identifying information (only involving state, year of death, and number of suicides within that state), and we dropped potentially identifying columns like gender and age group. One potential issue arises in states where there are few suicides within a given year - it would not be incredibly difficult to track down certain individuals within the armed forces who had committed suicide in a specific state during a specific year. The one potential ethical issue that we have discussed involves veterans data, however our datasets do not include any protected information as they are representative of the overall population rather than specific people. If something of this sort were to arise, we could easily mitigate the issue by removing the sensitive information (such as names or zip codes).\n",
    "\n",
    "There is always the potential for bias within datasets; however, as our datasets are quite large, the potential for bias is significantly reduced. Additionally, the majority of our data was collected by government agencies (such as the U.S. Census Bureau and The Center for Disease Control) who are using reliable data collection methods so as to limit the amount of bias within the data collection process. As such, it is unlikely to come across bias across data since they are collected through similarly regimented and structured methods. If we identify any issues in regards to privacy or bias, we will simply remove that problematic data. With datasets as large as ours, removal of a relatively small amount of data should not have a strong impact on our data analysis."
   ]
  },
  {
   "cell_type": "markdown",
   "metadata": {},
   "source": [
    "# Conclusions and Discussion"
   ]
  },
  {
   "cell_type": "markdown",
   "metadata": {},
   "source": []
  }
 ],
 "metadata": {
  "kernelspec": {
   "display_name": "Python 3",
   "language": "python",
   "name": "python3"
  },
  "language_info": {
   "codemirror_mode": {
    "name": "ipython",
    "version": 3
   },
   "file_extension": ".py",
   "mimetype": "text/x-python",
   "name": "python",
   "nbconvert_exporter": "python",
   "pygments_lexer": "ipython3",
   "version": "3.6.3"
  }
 },
 "nbformat": 4,
 "nbformat_minor": 2
}
